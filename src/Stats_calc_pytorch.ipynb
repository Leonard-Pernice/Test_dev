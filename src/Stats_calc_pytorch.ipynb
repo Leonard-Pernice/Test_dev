{
 "cells": [
  {
   "cell_type": "markdown",
   "metadata": {},
   "source": [
    "## Pytorch implementations of data-loading modules \n",
    "\n",
    "Goal is to allow batched data-loading and calculation of normalization statistics in a image-format agnostic way. "
   ]
  },
  {
   "cell_type": "code",
   "execution_count": 15,
   "metadata": {},
   "outputs": [],
   "source": [
    "import os\n",
    "import cv2\n",
    "import numpy as np\n",
    "from skimage import io\n",
    "from skimage.external import tifffile"
   ]
  },
  {
   "cell_type": "code",
   "execution_count": 3,
   "metadata": {},
   "outputs": [],
   "source": [
    "PATH = \"datasets/yeast_v2/\"\n",
    "\n",
    "folders = os.listdir(PATH)"
   ]
  },
  {
   "cell_type": "code",
   "execution_count": 7,
   "metadata": {},
   "outputs": [],
   "source": [
    "for folder in folders:\n",
    "    fnames, lbls, all_lbls = read_dirs(PATH, folder)"
   ]
  },
  {
   "cell_type": "code",
   "execution_count": 29,
   "metadata": {},
   "outputs": [
    {
     "data": {
      "text/plain": [
       "280"
      ]
     },
     "execution_count": 29,
     "metadata": {},
     "output_type": "execute_result"
    }
   ],
   "source": [
    "len(fnames)"
   ]
  },
  {
   "cell_type": "code",
   "execution_count": 10,
   "metadata": {},
   "outputs": [
    {
     "name": "stdout",
     "output_type": "stream",
     "text": [
      "['train\\\\WT\\\\WT_WP_E1_S0_F1_I2_C2_A0.tif', 'train\\\\WT\\\\WT_WP_E1_S0_F1_I2_C3_A0.tif']\n",
      "['WT', 'WT']\n",
      "['WT', 'mfb1KO']\n"
     ]
    }
   ],
   "source": [
    "print(fnames[0:2])\n",
    "print(lbls[0:2])\n",
    "print(all_lbls[0:2])"
   ]
  },
  {
   "cell_type": "code",
   "execution_count": 18,
   "metadata": {},
   "outputs": [
    {
     "name": "stdout",
     "output_type": "stream",
     "text": [
      "(200, 200, 2)\n"
     ]
    }
   ],
   "source": [
    "image_1 = open_image(PATH + fnames[0]); print(image_1.shape)"
   ]
  },
  {
   "cell_type": "code",
   "execution_count": 109,
   "metadata": {
    "scrolled": false
   },
   "outputs": [
    {
     "name": "stdout",
     "output_type": "stream",
     "text": [
      "(2,)\n",
      "[0.02111004 0.00453067]\n",
      "(2,)\n",
      "[0.0015035  0.00147647]\n"
     ]
    }
   ],
   "source": [
    "yeast_train = yeast_dataset('train')\n",
    "bs = 280\n",
    "\n",
    "big = np.zeros((bs,200,200,2))\n",
    "\n",
    "for i in range(len(yeast_train)):\n",
    "    sample = yeast_train[i]\n",
    "\n",
    "    big[i] = sample\n",
    "#     print(sample.shape)\n",
    "    \n",
    "    if i == bs:\n",
    "        break\n",
    "        \n",
    "batch_mean = np.mean(big, axis=(0,1,2)); print(batch_mean.shape); print(batch_mean)\n",
    "batch_std = np.std(big, axis=(0,1,2)); print(batch_std.shape); print(batch_std)"
   ]
  },
  {
   "cell_type": "code",
   "execution_count": 73,
   "metadata": {},
   "outputs": [
    {
     "name": "stdout",
     "output_type": "stream",
     "text": [
      "(4, 200, 200, 2)\n"
     ]
    }
   ],
   "source": [
    "print(big.shape)"
   ]
  },
  {
   "cell_type": "code",
   "execution_count": 85,
   "metadata": {},
   "outputs": [
    {
     "name": "stdout",
     "output_type": "stream",
     "text": [
      "[0.02146161 0.00443499]\n",
      "[0.02137806 0.00460488]\n",
      "[0.02138503 0.00499342]\n",
      "[0.02138503 0.00499342]\n"
     ]
    }
   ],
   "source": [
    "a = np.mean(big[0], axis = (0,1)); print(a)\n",
    "b = np.mean(big[1], axis = (0,1)); print(b)\n",
    "c = np.mean(big[2], axis = (0,1)); print(c)\n",
    "d = np.mean(big[2], axis = (0,1)); print(d)\n",
    "\n",
    "print(np.mean())"
   ]
  },
  {
   "cell_type": "code",
   "execution_count": 104,
   "metadata": {},
   "outputs": [
    {
     "name": "stdout",
     "output_type": "stream",
     "text": [
      "(2, 2, 2, 2)\n"
     ]
    },
    {
     "data": {
      "text/plain": [
       "array([24, 32])"
      ]
     },
     "execution_count": 104,
     "metadata": {},
     "output_type": "execute_result"
    }
   ],
   "source": [
    "## exploring axis arguments in np.sum, or generally in ndarrays. \n",
    "\n",
    "x = np.array([[[[0,1],\n",
    "               [2,3]],\n",
    "              [[0,1],\n",
    "               [2,3]]],\n",
    "              [[[4,5],\n",
    "               [6,7]],\n",
    "              [[4,5],\n",
    "               [6,7]]]\n",
    "             ])\n",
    "               \n",
    "print(x.shape)\n",
    "np.sum(x, axis=(0,1,2)) #seems to be the correct way to treat an ndarray while preserving the last axis.\n"
   ]
  },
  {
   "cell_type": "code",
   "execution_count": 87,
   "metadata": {},
   "outputs": [
    {
     "name": "stdout",
     "output_type": "stream",
     "text": [
      "(2,)\n",
      "[0.02135302 0.00471475]\n"
     ]
    }
   ],
   "source": [
    "batch_mean = np.mean(big, axis=(0,1,2)); print(batch_mean.shape); print(batch_mean)"
   ]
  },
  {
   "cell_type": "code",
   "execution_count": 113,
   "metadata": {},
   "outputs": [],
   "source": [
    "yeast_train = yeast_dataset('train')\n",
    "\n",
    "dataloader = torch.utils.data.DataLoader(yeast_train, batch_size=140, shuffle=False)\n",
    "\n",
    "pop_mean = []\n",
    "pop_std0 = []\n",
    "pop_std1 = []\n",
    "for i, data in enumerate(dataloader, 0):\n",
    "    # shape (batch_size, height, width channels)\n",
    "    numpy_image = data.numpy()\n",
    "\n",
    "    # shape (channels,)\n",
    "    batch_mean = np.mean(numpy_image, axis=(0, 1, 2))\n",
    "    batch_std0 = np.std(numpy_image, axis=(0, 1, 2))\n",
    "    #     batch_std1 = np.std(numpy_image, axis=(0,1,2), ddof=1)\n",
    "\n",
    "    pop_mean.append(batch_mean)\n",
    "    pop_std0.append(batch_std0)\n",
    "#     pop_std1.append(batch_std1)\n",
    "\n",
    "# shape (num_iterations, channels) -> (mean across 0th axis) -> shape (channels,)\n",
    "pop_mean = np.array(pop_mean).mean(axis=0)\n",
    "pop_std0 = np.array(pop_std0).mean(axis=0)\n",
    "# pop_std1 = np.array(pop_std1).mean(axis=0)\n"
   ]
  },
  {
   "cell_type": "code",
   "execution_count": 120,
   "metadata": {},
   "outputs": [
    {
     "name": "stdout",
     "output_type": "stream",
     "text": [
      "[0.02171638 0.00451   ]\n",
      "[0.0016155  0.00146062]\n"
     ]
    }
   ],
   "source": [
    "print(pop_mean)\n",
    "print(pop_std0)"
   ]
  },
  {
   "cell_type": "code",
   "execution_count": 43,
   "metadata": {},
   "outputs": [],
   "source": [
    "class yeast_dataset(Dataset):\n",
    "\n",
    "    def __init__(self, folder, transform=None):\n",
    "        \"\"\"\n",
    "        Args:\n",
    "            root_dir (string): Directory with all the images.\n",
    "            transform (callable, optional): Optional transform to be applied\n",
    "                on a sample.\n",
    "        \"\"\"\n",
    "        self.folder = folder\n",
    "        fnames, lbls, all_lbls = read_dirs(PATH, folder)  \n",
    "        self.fnames = fnames\n",
    "        self.transform = transform\n",
    "\n",
    "    def __len__(self):\n",
    "        return len(self.fnames)\n",
    "\n",
    "    def __getitem__(self, idx):\n",
    "        img_name = str(PATH + self.fnames[idx])\n",
    "        sample = open_image(img_name)\n",
    "\n",
    "        if self.transform:\n",
    "            sample = self.transform(sample)\n",
    "\n",
    "        return sample"
   ]
  },
  {
   "cell_type": "code",
   "execution_count": 5,
   "metadata": {},
   "outputs": [],
   "source": [
    "def read_dirs(path, folder):\n",
    "    '''\n",
    "    Fetches name of all files in path in long form, and labels associated by extrapolation of directory names. \n",
    "    '''\n",
    "    lbls, fnames, all_lbls = [], [], []\n",
    "    full_path = os.path.join(path, folder)\n",
    "    for lbl in sorted(os.listdir(full_path)):\n",
    "        if lbl not in ('.ipynb_checkpoints','.DS_Store'):\n",
    "            all_lbls.append(lbl)\n",
    "            for fname in os.listdir(os.path.join(full_path, lbl)):\n",
    "                if fname not in ('.DS_Store'):\n",
    "                    fnames.append(os.path.join(folder, lbl, fname))\n",
    "                    lbls.append(lbl)\n",
    "    return fnames, lbls, all_lbls"
   ]
  },
  {
   "cell_type": "code",
   "execution_count": 13,
   "metadata": {},
   "outputs": [],
   "source": [
    "def open_image(fn):\n",
    "    \"\"\" Opens an image using OpenCV given the file path.\n",
    "\n",
    "    Arguments:\n",
    "        fn: the file path of the image\n",
    "\n",
    "    Returns:\n",
    "        The image as numpy.array\n",
    "\"\"\"\n",
    "    \n",
    "\n",
    "    flags = cv2.IMREAD_UNCHANGED+cv2.IMREAD_ANYDEPTH+cv2.IMREAD_ANYCOLOR\n",
    "    if not os.path.exists(fn):\n",
    "        raise OSError('No such file or directory: {}'.format(fn))\n",
    "    elif os.path.isdir(fn):\n",
    "        raise OSError('Is a directory: {}'.format(fn))\n",
    "    else:\n",
    "        try:\n",
    "            if str(fn).lower().endswith(('.tif', '.tiff', '.tifff')):\n",
    "                im = tifffile.imread(str(fn)).astype(np.float32)/65535 #(!) for 16-bit images\n",
    "                im = np.moveaxis(im, 0, -1)\n",
    "            else:\n",
    "                im = cv2.imread(str(fn), flags).astype(np.float32)/255 \n",
    "                im = cv2.cvtColor(im, cv2.COLOR_BGR2RGB)\n",
    "            if im is None: raise OSError(f'File not recognized by io.imread: {fn}') \n",
    "            return im\n",
    "        except Exception as e:\n",
    "            raise OSError('Error handling image at: {}'.format(fn)) from e"
   ]
  },
  {
   "cell_type": "code",
   "execution_count": null,
   "metadata": {},
   "outputs": [],
   "source": []
  },
  {
   "cell_type": "code",
   "execution_count": 28,
   "metadata": {},
   "outputs": [
    {
     "ename": "TypeError",
     "evalue": "only integer scalar arrays can be converted to a scalar index",
     "traceback": [
      "\u001b[1;31m---------------------------------------------------------------------------\u001b[0m",
      "\u001b[1;31mTypeError\u001b[0m                                 Traceback (most recent call last)",
      "\u001b[1;32m<ipython-input-28-10653b778480>\u001b[0m in \u001b[0;36m<module>\u001b[1;34m()\u001b[0m\n\u001b[0;32m      4\u001b[0m \u001b[1;33m\u001b[0m\u001b[0m\n\u001b[0;32m      5\u001b[0m \u001b[1;32mfor\u001b[0m \u001b[0mims\u001b[0m \u001b[1;32min\u001b[0m \u001b[0mfnames\u001b[0m\u001b[1;33m:\u001b[0m\u001b[1;33m\u001b[0m\u001b[0m\n\u001b[1;32m----> 6\u001b[1;33m     \u001b[0mimages\u001b[0m \u001b[1;33m=\u001b[0m \u001b[0mnp\u001b[0m\u001b[1;33m.\u001b[0m\u001b[0mconcatenate\u001b[0m\u001b[1;33m(\u001b[0m\u001b[0mimages\u001b[0m\u001b[1;33m,\u001b[0m \u001b[0mopen_image\u001b[0m\u001b[1;33m(\u001b[0m\u001b[0mPATH\u001b[0m \u001b[1;33m+\u001b[0m \u001b[0mims\u001b[0m\u001b[1;33m)\u001b[0m\u001b[1;33m)\u001b[0m\u001b[1;33m\u001b[0m\u001b[0m\n\u001b[0m\u001b[0;32m      7\u001b[0m     \u001b[1;32mbreak\u001b[0m\u001b[1;33m\u001b[0m\u001b[0m\n\u001b[0;32m      8\u001b[0m \u001b[1;33m\u001b[0m\u001b[0m\n",
      "\u001b[1;31mTypeError\u001b[0m: only integer scalar arrays can be converted to a scalar index"
     ],
     "output_type": "error"
    }
   ],
   "source": [
    "fnames, lbls, all_lbls = read_dirs(PATH, 'train')\n",
    "\n",
    "images = open_image(PATH + fnames[0])\n",
    "\n",
    "for ims in fnames:\n",
    "    images = np.concatenate(images, open_image(PATH + ims))\n",
    "    break\n",
    "    \n",
    "\n",
    "type(images)"
   ]
  }
 ],
 "metadata": {
  "kernelspec": {
   "display_name": "Python 3",
   "language": "python",
   "name": "python3"
  },
  "language_info": {
   "codemirror_mode": {
    "name": "ipython",
    "version": 3
   },
   "file_extension": ".py",
   "mimetype": "text/x-python",
   "name": "python",
   "nbconvert_exporter": "python",
   "pygments_lexer": "ipython3",
   "version": "3.6.4"
  }
 },
 "nbformat": 4,
 "nbformat_minor": 2
}
