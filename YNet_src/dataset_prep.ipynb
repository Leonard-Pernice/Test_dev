{
 "cells": [
  {
   "cell_type": "code",
   "execution_count": 1,
   "metadata": {},
   "outputs": [],
   "source": [
    "from MLDataTools.dataset_manipulation import shuffle_zip, ready_data"
   ]
  },
  {
   "cell_type": "code",
   "execution_count": 3,
   "metadata": {},
   "outputs": [
    {
     "name": "stdout",
     "output_type": "stream",
     "text": [
      "140 images assigned to train\n",
      "35 images assigned to test\n",
      "All training images zipped successfully!\n",
      "All test images zipped successfully!\n",
      "Files moved to:../datasets/shuffled_zips/\n",
      "195 images assigned to train\n",
      "35 images assigned to test\n",
      "All training images zipped successfully!\n",
      "All test images zipped successfully!\n",
      "Files moved to:../datasets/shuffled_zips/\n",
      "75 images assigned to train\n",
      "35 images assigned to test\n",
      "All training images zipped successfully!\n",
      "All test images zipped successfully!\n",
      "Files moved to:../datasets/shuffled_zips/\n",
      "140 images assigned to train\n",
      "35 images assigned to test\n",
      "All training images zipped successfully!\n",
      "All test images zipped successfully!\n",
      "Files moved to:../datasets/shuffled_zips/\n"
     ]
    }
   ],
   "source": [
    "datasets = ['Mfb1KO_175','mmm1KO_230','num1KO_110','WT_175']\n",
    "for dataset in datasets:\n",
    "    input_path = f'../datasets/original_zips/{dataset}.zip'\n",
    "    output_path = '../datasets/shuffled_zips/'\n",
    "\n",
    "    shuffle_zip(dataset,input_path,output_path)\n",
    "    final_dest = '../datasets/yeast_ready/'\n",
    "    ready_data(dataset, output_path, final_dest)"
   ]
  },
  {
   "cell_type": "code",
   "execution_count": null,
   "metadata": {},
   "outputs": [],
   "source": []
  }
 ],
 "metadata": {
  "kernelspec": {
   "display_name": "Python 3",
   "language": "python",
   "name": "python3"
  },
  "language_info": {
   "codemirror_mode": {
    "name": "ipython",
    "version": 3
   },
   "file_extension": ".py",
   "mimetype": "text/x-python",
   "name": "python",
   "nbconvert_exporter": "python",
   "pygments_lexer": "ipython3",
   "version": "3.6.4"
  }
 },
 "nbformat": 4,
 "nbformat_minor": 1
}
