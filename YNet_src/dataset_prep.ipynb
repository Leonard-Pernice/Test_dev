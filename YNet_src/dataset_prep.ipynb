{
 "cells": [
  {
   "cell_type": "code",
   "execution_count": null,
   "metadata": {},
   "outputs": [],
   "source": [
    "from MLDataTools.dataset_manipulation import shuffle_zip, ready_data\n",
    "\n",
    "dataset_name = 'mmr1KO_240'\n",
    "input_path = f'../datasets/original_zips/{dataset_name}.zip'\n",
    "output_path = '../datasets/shuffled_zips/'\n",
    "\n",
    "shuffle_zip(dataset_name,input_path,output_path)"
   ]
  },
  {
   "cell_type": "code",
   "execution_count": null,
   "metadata": {},
   "outputs": [],
   "source": [
    "final_dest = '../datasets/yeast_ready/'\n",
    "final_source = output_path\n",
    "ready_data(dataset_name, final_source, final_dest)"
   ]
  },
  {
   "cell_type": "code",
   "execution_count": null,
   "metadata": {},
   "outputs": [],
   "source": []
  }
 ],
 "metadata": {
  "kernelspec": {
   "display_name": "Python 3",
   "language": "python",
   "name": "python3"
  },
  "language_info": {
   "codemirror_mode": {
    "name": "ipython",
    "version": 3
   },
   "file_extension": ".py",
   "mimetype": "text/x-python",
   "name": "python",
   "nbconvert_exporter": "python",
   "pygments_lexer": "ipython3",
   "version": "3.6.4"
  }
 },
 "nbformat": 4,
 "nbformat_minor": 1
}
