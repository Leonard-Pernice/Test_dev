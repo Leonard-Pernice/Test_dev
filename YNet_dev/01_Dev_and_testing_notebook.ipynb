{
 "cells": [
  {
   "cell_type": "markdown",
   "metadata": {},
   "source": [
    "# Dev and Test notebook"
   ]
  },
  {
   "cell_type": "markdown",
   "metadata": {},
   "source": [
    "## Imports"
   ]
  },
  {
   "cell_type": "code",
   "execution_count": 1,
   "metadata": {},
   "outputs": [],
   "source": [
    "%matplotlib inline\n",
    "%reload_ext autoreload\n",
    "%autoreload 2"
   ]
  },
  {
   "cell_type": "code",
   "execution_count": 2,
   "metadata": {},
   "outputs": [],
   "source": [
    "import os\n",
    "from pathlib import Path\n",
    "import skimage.external.tifffile as tiff\n",
    "\n",
    "from common import Statistics, dataset_source\n",
    "from resources.conv_learner import *\n",
    "from resources.plots import *\n",
    "from pprint import pprint\n",
    "import matplotlib.pyplot as plt\n",
    "%matplotlib inline"
   ]
  },
  {
   "cell_type": "markdown",
   "metadata": {},
   "source": [
    "## Allowing normalization according to both dataset (source) and class"
   ]
  },
  {
   "cell_type": "code",
   "execution_count": 3,
   "metadata": {},
   "outputs": [],
   "source": [
    "PATH = \"datasets/yeast_v5.3/\"\n",
    "data_path = Path(PATH)"
   ]
  },
  {
   "cell_type": "code",
   "execution_count": 4,
   "metadata": {},
   "outputs": [
    {
     "name": "stdout",
     "output_type": "stream",
     "text": [
      "working on: datasets\\yeast_v5.3\\train\\01_mfb1KO\n",
      "working on: datasets\\yeast_v5.3\\val\\01_mfb1KO\n",
      "working on: datasets\\yeast_v5.3\\train\\01_mmm1KO\n",
      "working on: datasets\\yeast_v5.3\\val\\01_mmm1KO\n",
      "working on: datasets\\yeast_v5.3\\train\\01_mmr1KO\n",
      "working on: datasets\\yeast_v5.3\\val\\01_mmr1KO\n",
      "working on: datasets\\yeast_v5.3\\train\\01_num1KO\n",
      "working on: datasets\\yeast_v5.3\\val\\01_num1KO\n",
      "working on: datasets\\yeast_v5.3\\train\\01_WT\n",
      "working on: datasets\\yeast_v5.3\\val\\01_WT\n",
      "working on: datasets\\yeast_v5.3\\train\\02_mfb1KO\n",
      "working on: datasets\\yeast_v5.3\\val\\02_mfb1KO\n",
      "working on: datasets\\yeast_v5.3\\train\\02_mmr1KO\n",
      "working on: datasets\\yeast_v5.3\\val\\02_mmr1KO\n",
      "working on: datasets\\yeast_v5.3\\train\\02_mmr1KO-mfb1KO\n",
      "working on: datasets\\yeast_v5.3\\val\\02_mmr1KO-mfb1KO\n",
      "working on: datasets\\yeast_v5.3\\train\\02_WT\n",
      "working on: datasets\\yeast_v5.3\\val\\02_WT\n"
     ]
    }
   ],
   "source": [
    "stats_name = \"yeast_v5.3_per_class.dict\"\n",
    "classes = Statistics.source_class(data_path)\n",
    "\n",
    "train_val = zip(classes['train'], classes['val'])\n",
    "# Xtest = zip(classes['test'])\n",
    " \n",
    "main_stats = Statistics.per_class(train_val, save_name=stats_name)\n",
    "# test_stats = Statistics.per_class(Xtest, save_name=stats_name)"
   ]
  },
  {
   "cell_type": "code",
   "execution_count": 5,
   "metadata": {},
   "outputs": [
    {
     "name": "stdout",
     "output_type": "stream",
     "text": [
      "01_mfb1KO: \t \t \t (array([0.02112, 0.00447]), array([0.00145, 0.00144]))\n",
      "01_mmm1KO: \t \t \t (array([0.021  , 0.00422]), array([0.00146, 0.00192]))\n",
      "01_mmr1KO: \t \t \t (array([0.02116, 0.00486]), array([0.00156, 0.00197]))\n",
      "01_num1KO: \t \t \t (array([0.02098, 0.00502]), array([0.00146, 0.00212]))\n",
      "01_WT: \t \t \t (array([0.0211 , 0.00456]), array([0.00151, 0.00132]))\n",
      "02_mfb1KO: \t \t \t (array([0.00793, 0.00491]), array([0.00076, 0.00171]))\n",
      "02_mmr1KO: \t \t \t (array([0.00798, 0.005  ]), array([0.00075, 0.002  ]))\n",
      "02_mmr1KO-mfb1KO: \t \t \t (array([0.0079 , 0.00485]), array([0.00075, 0.00159]))\n",
      "02_WT: \t \t \t (array([0.00794, 0.00479]), array([0.00076, 0.00151]))\n"
     ]
    }
   ],
   "source": [
    "for keys in main_stats.keys():\n",
    "    print(f\"{keys}: \\t \\t \\t {main_stats[keys]}\")"
   ]
  },
  {
   "cell_type": "code",
   "execution_count": 6,
   "metadata": {},
   "outputs": [],
   "source": [
    "def read_dirsX(path, folder):\n",
    "    '''\n",
    "    Fetches name of all files in path in long form, and labels associated by extrapolation of directory names. \n",
    "    '''\n",
    "    lbls, fnames, all_lbls = [], [], [] #(!) Need to modify here for z lable\n",
    "    full_path = os.path.join(path, folder)\n",
    "    for lbl in sorted(os.listdir(full_path)):\n",
    "        if lbl not in ('.ipynb_checkpoints', '.DS_Store'):\n",
    "            all_lbls.append(lbl)\n",
    "            for fname in os.listdir(os.path.join(full_path, lbl)):\n",
    "                if fname not in ('.DS_Store'):\n",
    "                    fnames.append(os.path.join(folder, lbl, fname))\n",
    "                    lbls.append(lbl)\n",
    "    return fnames, lbls, all_lbls"
   ]
  },
  {
   "cell_type": "code",
   "execution_count": 21,
   "metadata": {},
   "outputs": [],
   "source": [
    "path = PATH\n",
    "folder = 'val'\n",
    "fnames, lbls, all_lbls = read_dirsX(path, folder)\n",
    "    \n",
    "lbls2classes = {l: l.split('_')[1] for l in all_lbls} # (!) dict mapping lbls (folders) to classes (genotype)\n",
    "u_classes = list(dict.fromkeys(list(lbls2classes.values()))) # (!) get unique classes\n",
    "\n",
    "d = {}\n",
    "if d == {}:\n",
    "    d_cls = {label: idx for idx, label in enumerate(u_classes)}\n",
    "    d_src = {label_: idx_ for idx_, label_ in enumerate(lbls2classes)}\n",
    "    \n",
    "#     for idx, label in enumerate(u_classes):\n",
    "#         d_cls[label] = idx\n",
    "#     for idx_, label_ in enumerate(lbls2classes):\n",
    "#         d_src[label_] = idx_\n",
    "\n",
    "    # (!) populating d with lbls: class, class_idx   \n",
    "    for key, value in lbls2classes.items():\n",
    "        d[key] = [d_src[key], d_cls[value], lbls2classes[key]] \n",
    "\n",
    "src_idxs  = [d[lbl][0] for lbl in lbls] # (!) using d to generate class-lables for each image\n",
    "cls_idxs  = [d[lbl][1] for lbl in lbls] # (!) using d to generate class-lables for each image\n",
    "\n",
    "src_idx_arr = np.array(src_idxs, dtype=int)\n",
    "cls_idx_arr = np.array(cls_idxs, dtype=int)"
   ]
  },
  {
   "cell_type": "code",
   "execution_count": 22,
   "metadata": {},
   "outputs": [
    {
     "data": {
      "text/plain": [
       "(315,)"
      ]
     },
     "execution_count": 22,
     "metadata": {},
     "output_type": "execute_result"
    }
   ],
   "source": [
    "cls_idx_arr.shape"
   ]
  },
  {
   "cell_type": "code",
   "execution_count": null,
   "metadata": {},
   "outputs": [],
   "source": [
    "print(d)\n",
    "print(src_idx_arr)\n",
    "print(cls_idx_arr)"
   ]
  },
  {
   "cell_type": "code",
   "execution_count": 14,
   "metadata": {},
   "outputs": [],
   "source": [
    "lbl2indexX = {}\n",
    "trnX = folder_sourceX(PATH, 'val', lbl2indexX)"
   ]
  },
  {
   "cell_type": "code",
   "execution_count": null,
   "metadata": {},
   "outputs": [],
   "source": []
  }
 ],
 "metadata": {
  "kernelspec": {
   "display_name": "Python 3",
   "language": "python",
   "name": "python3"
  },
  "language_info": {
   "codemirror_mode": {
    "name": "ipython",
    "version": 3
   },
   "file_extension": ".py",
   "mimetype": "text/x-python",
   "name": "python",
   "nbconvert_exporter": "python",
   "pygments_lexer": "ipython3",
   "version": "3.6.5"
  }
 },
 "nbformat": 4,
 "nbformat_minor": 2
}
