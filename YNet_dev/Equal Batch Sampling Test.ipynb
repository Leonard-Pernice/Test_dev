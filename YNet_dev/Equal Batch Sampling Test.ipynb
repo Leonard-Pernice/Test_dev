{
 "cells": [
  {
   "cell_type": "code",
   "execution_count": 1,
   "metadata": {},
   "outputs": [],
   "source": [
    "%matplotlib inline\n",
    "%reload_ext autoreload\n",
    "%autoreload 2"
   ]
  },
  {
   "cell_type": "code",
   "execution_count": 2,
   "metadata": {},
   "outputs": [],
   "source": [
    "import os\n",
    "from pathlib import Path\n",
    "import skimage.external.tifffile as tiff\n",
    "\n",
    "from common import Statistics, dataset_source\n",
    "from resources.conv_learner import *\n",
    "from resources.plots import *\n",
    "\n",
    "np.set_printoptions(precision=2)"
   ]
  },
  {
   "cell_type": "code",
   "execution_count": 3,
   "metadata": {},
   "outputs": [],
   "source": [
    "PATH = \"../datasets/yeast_v4\"\n",
    "data_path = Path(PATH)"
   ]
  },
  {
   "cell_type": "code",
   "execution_count": 4,
   "metadata": {},
   "outputs": [],
   "source": [
    "CLASSES = ('WT', 'mfb1KO', 'mfb1KO_mmr1KO', 'mmr1KO')\n",
    "NUM_CLASSES = len(CLASSES)\n",
    "BATCH_SIZE = 64\n",
    "SIZE = 200"
   ]
  },
  {
   "cell_type": "code",
   "execution_count": 5,
   "metadata": {},
   "outputs": [
    {
     "name": "stdout",
     "output_type": "stream",
     "text": [
      "8\n",
      "working on a dataset with length: 714\n"
     ]
    }
   ],
   "source": [
    "ds_name = \"yeast_v4\"\n",
    "test_dirs, train_dirs = dataset_source(data_path)\n",
    "stats_tuple = Statistics.per_dataset(test_dirs, train_dirs, save_name=ds_name)"
   ]
  },
  {
   "cell_type": "code",
   "execution_count": 43,
   "metadata": {},
   "outputs": [
    {
     "name": "stdout",
     "output_type": "stream",
     "text": [
      "-0.006970908076958817\n",
      "-0.003947202223064285\n",
      "0.14443836282916744\n",
      "-0.046832720460695205\n",
      "\n",
      " class to index mapping:\n",
      " {'WT': 0, 'mfb1KO': 1, 'mfb1KO_mmr1KO': 2, 'mmr1KO': 3}\n"
     ]
    }
   ],
   "source": [
    "def get_data(path: str, sz, bs, stats):\n",
    "    create, lbl2index = ImageClassifierData.prepare_from_path(path, val_name='test', bs=bs,balance=True)\n",
    "    tfms = tfms_from_stats(stats, sz, aug_tfms=[RandomDihedral()], pad=sz//8) #even without transformations and padding -> failure\n",
    "    print('\\n class to index mapping:\\n',lbl2index)\n",
    "    return create(tfms)\n",
    "balanced = get_data(PATH,SIZE, BATCH_SIZE,stats_tuple)"
   ]
  },
  {
   "cell_type": "code",
   "execution_count": 54,
   "metadata": {},
   "outputs": [
    {
     "name": "stdout",
     "output_type": "stream",
     "text": [
      "5.467488545941363\n"
     ]
    }
   ],
   "source": [
    "ps = []\n",
    "for _ in range(50): # simulation of 50 epochs\n",
    "    for batch, y in balanced.trn_dl:\n",
    "        ys = y.numpy().copy()\n",
    "        counts = np.bincount(ys)\n",
    "        percentages = [int(100* count / sum(counts)) for count in counts]\n",
    "        ps.extend(percentages)\n",
    "        \n",
    "print(np.std(ps))"
   ]
  },
  {
   "cell_type": "code",
   "execution_count": 55,
   "metadata": {},
   "outputs": [
    {
     "name": "stdout",
     "output_type": "stream",
     "text": [
      "\n",
      " class to index mapping:\n",
      " {'WT': 0, 'mfb1KO': 1, 'mfb1KO_mmr1KO': 2, 'mmr1KO': 3}\n"
     ]
    }
   ],
   "source": [
    "def get_data(path: str, sz, bs, stats):\n",
    "    create, lbl2index = ImageClassifierData.prepare_from_path(path, val_name='test', bs=bs)\n",
    "    tfms = tfms_from_stats(stats, sz, aug_tfms=[RandomDihedral()], pad=sz//8) #even without transformations and padding -> failure\n",
    "    print('\\n class to index mapping:\\n',lbl2index)\n",
    "    return create(tfms)\n",
    "unbalanced = get_data(PATH,SIZE, BATCH_SIZE,stats_tuple)"
   ]
  },
  {
   "cell_type": "code",
   "execution_count": 56,
   "metadata": {},
   "outputs": [
    {
     "name": "stdout",
     "output_type": "stream",
     "text": [
      "9.256779947692394\n"
     ]
    }
   ],
   "source": [
    "ps = []\n",
    "for _ in range(50):\n",
    "    for batch, y in unbalanced.trn_dl:\n",
    "        ys = y.numpy().copy()\n",
    "        counts = np.bincount(ys)\n",
    "        percentages = [int(100* count / sum(counts)) for count in counts]\n",
    "        ps.extend(percentages)\n",
    "        \n",
    "print(np.std(ps))"
   ]
  },
  {
   "cell_type": "code",
   "execution_count": null,
   "metadata": {},
   "outputs": [],
   "source": []
  }
 ],
 "metadata": {
  "kernelspec": {
   "display_name": "Python 3",
   "language": "python",
   "name": "python3"
  },
  "language_info": {
   "codemirror_mode": {
    "name": "ipython",
    "version": 3
   },
   "file_extension": ".py",
   "mimetype": "text/x-python",
   "name": "python",
   "nbconvert_exporter": "python",
   "pygments_lexer": "ipython3",
   "version": "3.6.6"
  }
 },
 "nbformat": 4,
 "nbformat_minor": 2
}
