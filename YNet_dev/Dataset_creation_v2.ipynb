{
 "cells": [
  {
   "cell_type": "markdown",
   "metadata": {},
   "source": [
    "# Create Dataset from .zip files and calc normalization statistics\n",
    "\n",
    "Step_1: create standard dataset to be re-used, either by creating folders or as hdf5 object. \n",
    "\n",
    "Step_2: calculate mean + std for train and test images"
   ]
  },
  {
   "cell_type": "code",
   "execution_count": 9,
   "metadata": {},
   "outputs": [],
   "source": [
    "%matplotlib inline\n",
    "%reload_ext autoreload\n",
    "%autoreload 2"
   ]
  },
  {
   "cell_type": "code",
   "execution_count": 10,
   "metadata": {},
   "outputs": [],
   "source": [
    "from common import shuffle_zip\n",
    "BASE = \"../datasets/\""
   ]
  },
  {
   "cell_type": "markdown",
   "metadata": {},
   "source": [
    "## yeast_v5\n"
   ]
  },
  {
   "cell_type": "code",
   "execution_count": 11,
   "metadata": {
    "scrolled": false
   },
   "outputs": [
    {
     "name": "stdout",
     "output_type": "stream",
     "text": [
      "working on [mmm1KO_230] class\n",
      "{True}\n",
      "230 0\n",
      "length of train: [195]; length of test: [35]\n",
      "Files moved to:../datasets/yeast_v5/shuffled_zips/\n",
      "working on [mmr1KO] class\n",
      "{False, True}\n",
      "240 291\n",
      "length of train: [461]; length of test: [70]\n",
      "Files moved to:../datasets/yeast_v5/shuffled_zips/\n",
      "working on [mfb1KO] class\n",
      "{False, True}\n",
      "175 209\n",
      "length of train: [314]; length of test: [70]\n",
      "Files moved to:../datasets/yeast_v5/shuffled_zips/\n",
      "working on [mfb1KO_mmr1KO] class\n",
      "{False}\n",
      "0 141\n",
      "length of train: [106]; length of test: [35]\n",
      "Files moved to:../datasets/yeast_v5/shuffled_zips/\n",
      "working on [num1_110] class\n",
      "{True}\n",
      "110 0\n",
      "length of train: [75]; length of test: [35]\n",
      "Files moved to:../datasets/yeast_v5/shuffled_zips/\n",
      "working on [WT] class\n",
      "{False, True}\n",
      "197 196\n",
      "length of train: [323]; length of test: [70]\n",
      "Files moved to:../datasets/yeast_v5/shuffled_zips/\n"
     ]
    }
   ],
   "source": [
    "ds_name = BASE+'yeast_v5'\n",
    "shuffle_zip(ds_name+\"/original_zips\",ds_name+'/shuffled_zips/',ds_name)"
   ]
  },
  {
   "cell_type": "code",
   "execution_count": 12,
   "metadata": {},
   "outputs": [
    {
     "name": "stdout",
     "output_type": "stream",
     "text": [
      "working on [mmr1KO] class\n",
      "{False, True}\n",
      "240 291\n",
      "length of train: [461]; length of test: [70]\n",
      "Files moved to:../datasets/yeast_v6/shuffled_zips/\n",
      "working on [mfb1KO] class\n",
      "{False, True}\n",
      "175 209\n",
      "length of train: [314]; length of test: [70]\n",
      "Files moved to:../datasets/yeast_v6/shuffled_zips/\n",
      "working on [WT] class\n",
      "{False, True}\n",
      "197 196\n",
      "length of train: [323]; length of test: [70]\n",
      "Files moved to:../datasets/yeast_v6/shuffled_zips/\n"
     ]
    }
   ],
   "source": [
    "ds_name = BASE+'yeast_v6'\n",
    "shuffle_zip(ds_name+\"/original_zips\",ds_name+'/shuffled_zips/',ds_name)"
   ]
  },
  {
   "cell_type": "code",
   "execution_count": 13,
   "metadata": {
    "scrolled": false
   },
   "outputs": [
    {
     "name": "stdout",
     "output_type": "stream",
     "text": [
      "working on [Combined_mmr1KO] class\n",
      "{False, True}\n",
      "240 543\n",
      "length of train: [713]; length of test: [70]\n",
      "Files moved to:../datasets/yeast_v7/shuffled_zips/\n",
      "working on [Combined_mfb1KO] class\n",
      "{False, True}\n",
      "175 393\n",
      "length of train: [498]; length of test: [70]\n",
      "Files moved to:../datasets/yeast_v7/shuffled_zips/\n",
      "working on [Combined_WT] class\n",
      "{False, True}\n",
      "197 472\n",
      "length of train: [599]; length of test: [70]\n",
      "Files moved to:../datasets/yeast_v7/shuffled_zips/\n",
      "working on [mmm1KO_230] class\n",
      "{True}\n",
      "230 0\n",
      "length of train: [195]; length of test: [35]\n",
      "Files moved to:../datasets/yeast_v7/shuffled_zips/\n",
      "working on [mfb1KO_Num1KO] class\n",
      "{False}\n",
      "0 244\n",
      "length of train: [209]; length of test: [35]\n",
      "Files moved to:../datasets/yeast_v7/shuffled_zips/\n",
      "working on [mfb1KO_mmr1KO] class\n",
      "{False}\n",
      "0 141\n",
      "length of train: [106]; length of test: [35]\n",
      "Files moved to:../datasets/yeast_v7/shuffled_zips/\n",
      "working on [num1_110] class\n",
      "{True}\n",
      "110 0\n",
      "length of train: [75]; length of test: [35]\n",
      "Files moved to:../datasets/yeast_v7/shuffled_zips/\n"
     ]
    }
   ],
   "source": [
    "ds_name = BASE+'yeast_v7'\n",
    "shuffle_zip(ds_name+\"/original_zips\",ds_name+'/shuffled_zips/',ds_name)"
   ]
  },
  {
   "cell_type": "code",
   "execution_count": 14,
   "metadata": {},
   "outputs": [
    {
     "name": "stdout",
     "output_type": "stream",
     "text": [
      "working on [mfb1KO_2] class\n",
      "{False}\n",
      "0 184\n",
      "length of train: [149]; length of test: [35]\n",
      "Files moved to:../datasets/yeast_v8/shuffled_zips/\n",
      "working on [mmr1KO] class\n",
      "{False}\n",
      "0 252\n",
      "length of train: [217]; length of test: [35]\n",
      "Files moved to:../datasets/yeast_v8/shuffled_zips/\n",
      "working on [mfb1KO_Num1KO] class\n",
      "{False}\n",
      "0 244\n",
      "length of train: [209]; length of test: [35]\n",
      "Files moved to:../datasets/yeast_v8/shuffled_zips/\n",
      "working on [mfb1KO_mmr1KO] class\n",
      "{False}\n",
      "0 253\n",
      "length of train: [218]; length of test: [35]\n",
      "Files moved to:../datasets/yeast_v8/shuffled_zips/\n",
      "working on [WT] class\n",
      "{False}\n",
      "0 276\n",
      "length of train: [241]; length of test: [35]\n",
      "Files moved to:../datasets/yeast_v8/shuffled_zips/\n",
      "working on [mfb1KO_67] class\n",
      "{False}\n",
      "0 268\n",
      "length of train: [233]; length of test: [35]\n",
      "Files moved to:../datasets/yeast_v8/shuffled_zips/\n"
     ]
    }
   ],
   "source": [
    "ds_name = BASE+'yeast_v8'\n",
    "shuffle_zip(ds_name+\"/original_zips\",ds_name+'/shuffled_zips/',ds_name)"
   ]
  },
  {
   "cell_type": "code",
   "execution_count": null,
   "metadata": {},
   "outputs": [],
   "source": []
  }
 ],
 "metadata": {
  "kernelspec": {
   "display_name": "Python 3",
   "language": "python",
   "name": "python3"
  },
  "language_info": {
   "codemirror_mode": {
    "name": "ipython",
    "version": 3
   },
   "file_extension": ".py",
   "mimetype": "text/x-python",
   "name": "python",
   "nbconvert_exporter": "python",
   "pygments_lexer": "ipython3",
   "version": "3.6.5"
  }
 },
 "nbformat": 4,
 "nbformat_minor": 2
}
