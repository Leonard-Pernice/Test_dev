{
 "cells": [
  {
   "cell_type": "markdown",
   "metadata": {},
   "source": [
    "# Create Dataset from .zip files and calc normalization statistics\n",
    "\n",
    "Step_1: create standard dataset to be re-used, either by creating folders or as hdf5 object. \n",
    "\n",
    "Step_2: calculate mean + std for train and test images"
   ]
  },
  {
   "cell_type": "code",
   "execution_count": 1,
   "metadata": {},
   "outputs": [],
   "source": [
    "%matplotlib inline\n",
    "%reload_ext autoreload\n",
    "%autoreload 2"
   ]
  },
  {
   "cell_type": "code",
   "execution_count": 2,
   "metadata": {},
   "outputs": [],
   "source": [
    "from common import shuffle_zip\n",
    "BASE = \"../datasets/\""
   ]
  },
  {
   "cell_type": "code",
   "execution_count": 3,
   "metadata": {},
   "outputs": [
    {
     "name": "stdout",
     "output_type": "stream",
     "text": [
      "working on [Cit1_MC_mfb1KO_mmr1KO] class\n",
      "deleted 35 non square images.\n",
      "{False}\n",
      "0 106\n",
      "length of train: [71]; length of test: [35]\n",
      "Files moved to:../datasets/yeast_v4.1/shuffled_zips/\n",
      "working on [Cit1_MC_mfb1KO] class\n",
      "deleted 27 non square images.\n",
      "{False}\n",
      "0 182\n",
      "length of train: [147]; length of test: [35]\n",
      "Files moved to:../datasets/yeast_v4.1/shuffled_zips/\n",
      "working on [Cit1_MC_mmr1KO] class\n",
      "deleted 54 non square images.\n",
      "{False}\n",
      "0 237\n",
      "length of train: [202]; length of test: [35]\n",
      "Files moved to:../datasets/yeast_v4.1/shuffled_zips/\n",
      "working on [Cit1_MC_WT] class\n",
      "deleted 29 non square images.\n",
      "{False}\n",
      "0 189\n",
      "length of train: [154]; length of test: [35]\n",
      "Files moved to:../datasets/yeast_v4.1/shuffled_zips/\n"
     ]
    }
   ],
   "source": [
    "ds_name = BASE+'yeast_v4.1'\n",
    "shuffle_zip(ds_name+\"/original_zips\",ds_name+'/shuffled_zips/',ds_name)"
   ]
  },
  {
   "cell_type": "markdown",
   "metadata": {},
   "source": [
    "## yeast_v5\n"
   ]
  },
  {
   "cell_type": "code",
   "execution_count": 4,
   "metadata": {
    "scrolled": false
   },
   "outputs": [
    {
     "name": "stdout",
     "output_type": "stream",
     "text": [
      "working on [mmm1KO_230] class\n",
      "deleted 0 non square images.\n",
      "{True}\n",
      "230 0\n",
      "length of train: [195]; length of test: [35]\n",
      "Files moved to:../datasets/yeast_v5/shuffled_zips/\n",
      "working on [mmr1KO] class\n",
      "deleted 54 non square images.\n",
      "{False, True}\n",
      "240 237\n",
      "length of train: [407]; length of test: [70]\n",
      "Files moved to:../datasets/yeast_v5/shuffled_zips/\n",
      "working on [mfb1KO] class\n",
      "deleted 27 non square images.\n",
      "{False, True}\n",
      "175 182\n",
      "length of train: [287]; length of test: [70]\n",
      "Files moved to:../datasets/yeast_v5/shuffled_zips/\n",
      "working on [mfb1KO_mmr1KO] class\n",
      "deleted 35 non square images.\n",
      "{False}\n",
      "0 106\n",
      "length of train: [71]; length of test: [35]\n",
      "Files moved to:../datasets/yeast_v5/shuffled_zips/\n",
      "working on [num1_110] class\n",
      "deleted 0 non square images.\n",
      "{True}\n",
      "110 0\n",
      "length of train: [75]; length of test: [35]\n",
      "Files moved to:../datasets/yeast_v5/shuffled_zips/\n",
      "working on [WT] class\n",
      "deleted 29 non square images.\n",
      "{False, True}\n",
      "185 179\n",
      "length of train: [294]; length of test: [70]\n",
      "Files moved to:../datasets/yeast_v5/shuffled_zips/\n"
     ]
    }
   ],
   "source": [
    "ds_name = BASE+'yeast_v5'\n",
    "shuffle_zip(ds_name+\"/original_zips\",ds_name+'/shuffled_zips/',ds_name)"
   ]
  },
  {
   "cell_type": "code",
   "execution_count": 5,
   "metadata": {},
   "outputs": [
    {
     "name": "stdout",
     "output_type": "stream",
     "text": [
      "working on [mmr1KO] class\n",
      "deleted 54 non square images.\n",
      "{False, True}\n",
      "240 237\n",
      "length of train: [407]; length of test: [70]\n",
      "Files moved to:../datasets/yeast_v6/shuffled_zips/\n",
      "working on [mfb1KO] class\n",
      "deleted 27 non square images.\n",
      "{False, True}\n",
      "175 182\n",
      "length of train: [287]; length of test: [70]\n",
      "Files moved to:../datasets/yeast_v6/shuffled_zips/\n",
      "working on [WT] class\n",
      "deleted 29 non square images.\n",
      "{False, True}\n",
      "185 179\n",
      "length of train: [294]; length of test: [70]\n",
      "Files moved to:../datasets/yeast_v6/shuffled_zips/\n"
     ]
    }
   ],
   "source": [
    "ds_name = BASE+'yeast_v6'\n",
    "shuffle_zip(ds_name+\"/original_zips\",ds_name+'/shuffled_zips/',ds_name)"
   ]
  },
  {
   "cell_type": "code",
   "execution_count": 6,
   "metadata": {
    "scrolled": false
   },
   "outputs": [
    {
     "name": "stdout",
     "output_type": "stream",
     "text": [
      "working on [Combined_mmr1KO] class\n",
      "deleted 98 non square images.\n",
      "{False, True}\n",
      "240 445\n",
      "length of train: [615]; length of test: [70]\n",
      "Files moved to:../datasets/yeast_v7/shuffled_zips/\n",
      "working on [Combined_mfb1KO] class\n",
      "deleted 68 non square images.\n",
      "{False, True}\n",
      "175 325\n",
      "length of train: [430]; length of test: [70]\n",
      "Files moved to:../datasets/yeast_v7/shuffled_zips/\n",
      "working on [Combined_WT] class\n",
      "deleted 83 non square images.\n",
      "{False, True}\n",
      "185 401\n",
      "length of train: [516]; length of test: [70]\n",
      "Files moved to:../datasets/yeast_v7/shuffled_zips/\n",
      "working on [mmm1KO_230] class\n",
      "deleted 0 non square images.\n",
      "{True}\n",
      "230 0\n",
      "length of train: [195]; length of test: [35]\n",
      "Files moved to:../datasets/yeast_v7/shuffled_zips/\n",
      "working on [mfb1KO_Num1KO] class\n",
      "deleted 44 non square images.\n",
      "{False}\n",
      "0 200\n",
      "length of train: [165]; length of test: [35]\n",
      "Files moved to:../datasets/yeast_v7/shuffled_zips/\n",
      "working on [mfb1KO_mmr1KO] class\n",
      "deleted 35 non square images.\n",
      "{False}\n",
      "0 106\n",
      "length of train: [71]; length of test: [35]\n",
      "Files moved to:../datasets/yeast_v7/shuffled_zips/\n",
      "working on [num1_110] class\n",
      "deleted 0 non square images.\n",
      "{True}\n",
      "110 0\n",
      "length of train: [75]; length of test: [35]\n",
      "Files moved to:../datasets/yeast_v7/shuffled_zips/\n"
     ]
    }
   ],
   "source": [
    "ds_name = BASE+'yeast_v7'\n",
    "shuffle_zip(ds_name+\"/original_zips\",ds_name+'/shuffled_zips/',ds_name)"
   ]
  },
  {
   "cell_type": "code",
   "execution_count": 7,
   "metadata": {},
   "outputs": [
    {
     "name": "stdout",
     "output_type": "stream",
     "text": [
      "working on [mfb1KO_2] class\n",
      "deleted 41 non square images.\n",
      "{False}\n",
      "0 143\n",
      "length of train: [108]; length of test: [35]\n",
      "Files moved to:../datasets/yeast_v8/shuffled_zips/\n",
      "working on [mmr1KO] class\n",
      "deleted 44 non square images.\n",
      "{False}\n",
      "0 208\n",
      "length of train: [173]; length of test: [35]\n",
      "Files moved to:../datasets/yeast_v8/shuffled_zips/\n",
      "working on [mfb1KO_Num1KO] class\n",
      "deleted 44 non square images.\n",
      "{False}\n",
      "0 200\n",
      "length of train: [165]; length of test: [35]\n",
      "Files moved to:../datasets/yeast_v8/shuffled_zips/\n",
      "working on [mfb1KO_mmr1KO] class\n",
      "deleted 45 non square images.\n",
      "{False}\n",
      "0 208\n",
      "length of train: [173]; length of test: [35]\n",
      "Files moved to:../datasets/yeast_v8/shuffled_zips/\n",
      "working on [WT] class\n",
      "deleted 54 non square images.\n",
      "{False}\n",
      "0 222\n",
      "length of train: [187]; length of test: [35]\n",
      "Files moved to:../datasets/yeast_v8/shuffled_zips/\n",
      "working on [mfb1KO_67] class\n",
      "deleted 49 non square images.\n",
      "{False}\n",
      "0 219\n",
      "length of train: [184]; length of test: [35]\n",
      "Files moved to:../datasets/yeast_v8/shuffled_zips/\n"
     ]
    }
   ],
   "source": [
    "ds_name = BASE+'yeast_v8'\n",
    "shuffle_zip(ds_name+\"/original_zips\",ds_name+'/shuffled_zips/',ds_name)"
   ]
  },
  {
   "cell_type": "code",
   "execution_count": null,
   "metadata": {},
   "outputs": [],
   "source": []
  }
 ],
 "metadata": {
  "kernelspec": {
   "display_name": "Python 3",
   "language": "python",
   "name": "python3"
  },
  "language_info": {
   "codemirror_mode": {
    "name": "ipython",
    "version": 3
   },
   "file_extension": ".py",
   "mimetype": "text/x-python",
   "name": "python",
   "nbconvert_exporter": "python",
   "pygments_lexer": "ipython3",
   "version": "3.6.6"
  }
 },
 "nbformat": 4,
 "nbformat_minor": 2
}
