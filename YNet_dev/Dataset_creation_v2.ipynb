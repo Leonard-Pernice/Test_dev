{
 "cells": [
  {
   "cell_type": "markdown",
   "metadata": {},
   "source": [
    "# Create Dataset from .zip files and calc normalization statistics\n",
    "\n",
    "Step_1: create standard dataset to be re-used, either by creating folders or as hdf5 object. \n",
    "\n",
    "Step_2: calculate mean + std for train and test images"
   ]
  },
  {
   "cell_type": "code",
   "execution_count": 1,
   "metadata": {},
   "outputs": [],
   "source": [
    "%matplotlib inline\n",
    "%reload_ext autoreload\n",
    "%autoreload 2"
   ]
  },
  {
   "cell_type": "code",
   "execution_count": 2,
   "metadata": {},
   "outputs": [],
   "source": [
    "from common import shuffle_zip\n",
    "BASE = \"./datasets/YNet_data_02/re_crop/\""
   ]
  },
  {
   "cell_type": "markdown",
   "metadata": {},
   "source": [
    "## Run scripts to generate ready_data"
   ]
  },
  {
   "cell_type": "code",
   "execution_count": 3,
   "metadata": {},
   "outputs": [
    {
     "name": "stdout",
     "output_type": "stream",
     "text": [
      "working on [mfb1KO] class\n",
      "deleted 39 non square images.\n",
      "{False}\n",
      "0 251\n",
      "length of train: [216]; length of test: [35]\n",
      "Files moved to:./datasets/YNet_data_02/re_crop/yeast_v4.4/shuffled_zips/\n",
      "train created\n",
      "train/mfb1KO created\n",
      "test created\n",
      "test/mfb1KO created\n",
      "working on [mmr1KO] class\n",
      "deleted 61 non square images.\n",
      "{False}\n",
      "0 347\n",
      "length of train: [312]; length of test: [35]\n",
      "Files moved to:./datasets/YNet_data_02/re_crop/yeast_v4.4/shuffled_zips/\n",
      "working on [mmr1KO_mfb1KO] class\n",
      "deleted 57 non square images.\n",
      "{False}\n",
      "0 319\n",
      "length of train: [284]; length of test: [35]\n",
      "Files moved to:./datasets/YNet_data_02/re_crop/yeast_v4.4/shuffled_zips/\n",
      "working on [WT] class\n",
      "deleted 37 non square images.\n",
      "{False}\n",
      "0 223\n",
      "length of train: [188]; length of test: [35]\n",
      "Files moved to:./datasets/YNet_data_02/re_crop/yeast_v4.4/shuffled_zips/\n"
     ]
    }
   ],
   "source": [
    "ds_name = BASE+'yeast_v4.4'\n",
    "shuffle_zip(ds_name+\"/original_zips\",ds_name+'/shuffled_zips/',ds_name)"
   ]
  },
  {
   "cell_type": "code",
   "execution_count": null,
   "metadata": {},
   "outputs": [],
   "source": []
  }
 ],
 "metadata": {
  "kernelspec": {
   "display_name": "Python 3",
   "language": "python",
   "name": "python3"
  },
  "language_info": {
   "codemirror_mode": {
    "name": "ipython",
    "version": 3
   },
   "file_extension": ".py",
   "mimetype": "text/x-python",
   "name": "python",
   "nbconvert_exporter": "python",
   "pygments_lexer": "ipython3",
   "version": "3.6.5"
  }
 },
 "nbformat": 4,
 "nbformat_minor": 2
}
